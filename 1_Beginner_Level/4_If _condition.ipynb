{
 "cells": [
  {
   "cell_type": "code",
   "execution_count": 1,
   "id": "1f5765b7",
   "metadata": {},
   "outputs": [
    {
     "name": "stdout",
     "output_type": "stream",
     "text": [
      "Normal\n"
     ]
    }
   ],
   "source": [
    "\"\"\"1. Write a program to determine the BMI Category based on user input.\n",
    "Ask the user to:\n",
    "Enter height in meters\n",
    "Enter weight in kilograms\n",
    "Calculate BMI using the formula: BMI = weight / (height)2\n",
    "Use the following categories:\n",
    "If BMI is 30 or greater, print \"Obesity\"\n",
    "If BMI is between 25 and 29, print \"Overweight\"\n",
    "If BMI is between 18.5 and 25, print \"Normal\"\n",
    "If BMI is less than 18.5, print \"Underweight\"\n",
    "Example:\n",
    "Enter height in meters: 1.75\n",
    "Enter weight in kilograms: 70\n",
    "Output: \"Normal\"\"\"\n",
    "\n",
    "\n",
    "# Taking input from the user\n",
    "height = float(input(\"Enter height in meters: \"))\n",
    "weight = float(input(\"Enter weight in kilograms: \"))\n",
    "\n",
    "\n",
    "bmi = weight / (height ** 2)\n",
    "\n",
    "if bmi >= 30:\n",
    "    print(\"Obesity\")\n",
    "elif bmi >= 25:\n",
    "    print(\"Overweight\")\n",
    "elif bmi >= 18.5:\n",
    "    print(\"Normal\")\n",
    "else:\n",
    "    print(\"Underweight\")"
   ]
  },
  {
   "cell_type": "code",
   "execution_count": 2,
   "id": "9df5118f",
   "metadata": {},
   "outputs": [
    {
     "name": "stdout",
     "output_type": "stream",
     "text": [
      "Abu Dhabi is in UAE\n"
     ]
    }
   ],
   "source": [
    "\"\"\"2. Write a program to determine which country a city belongs to. Given\n",
    "list of cities per country:\n",
    "Australia = [\"Sydney\"\n",
    ",\n",
    "\"Melbourne\"\n",
    ",\n",
    "\"Brisbane\"\n",
    ",\n",
    "\"Perth\"]\n",
    "\n",
    "UAE = [\"Dubai\"\n",
    ",\n",
    "\"Abu Dhabi\"\n",
    ",\n",
    "\"Sharjah\"\n",
    ",\n",
    "\"Ajman\"]\n",
    "\n",
    "India = [\"Mumbai\"\n",
    ",\n",
    "\"Bangalore\"\n",
    ",\n",
    "\"Chennai\"\n",
    ",\n",
    "\"Delhi\"]\n",
    "\n",
    "Ask the user to enter a city name and print the corresponding country.\n",
    "Example:\n",
    "Enter a city name: \"Abu Dhabi\"\n",
    "Output: \"Abu Dhabi is in UAE\"\"\"\n",
    "\n",
    "\n",
    "australia = [\"Sydney\", \"Melbourne\", \"Brisbane\", \"Perth\"]\n",
    "uae = [\"Dubai\", \"Abu Dhabi\", \"Sharjah\", \"Ajman\"]\n",
    "india = [\"Mumbai\", \"Bangalore\", \"Chennai\", \"Delhi\"]\n",
    "\n",
    "# Get city input from the user\n",
    "city = input(\"Enter a city name: \")\n",
    "\n",
    "\n",
    "if city in australia:\n",
    "    print(f\"{city} is in Australia\")\n",
    "elif city in uae:\n",
    "    print(f\"{city} is in UAE\")\n",
    "elif city in india:\n",
    "    print(f\"{city} is in India\")\n",
    "else:\n",
    "    print(f\"{city} is not in the list\")\n"
   ]
  },
  {
   "cell_type": "code",
   "execution_count": 4,
   "id": "c13b6151",
   "metadata": {},
   "outputs": [
    {
     "name": "stdout",
     "output_type": "stream",
     "text": [
      "Both cities are in India\n"
     ]
    }
   ],
   "source": [
    "\"\"\"3. Write a program to check if two cities belong to the same country.\n",
    "Ask the user to enter two cities and print whether they belong to the\n",
    "same country or not.\"\"\"\n",
    "\n",
    "\n",
    "australia = [\"Sydney\", \"Melbourne\", \"Brisbane\", \"Perth\"]\n",
    "uae = [\"Dubai\", \"Abu Dhabi\", \"Sharjah\", \"Ajman\"]\n",
    "india = [\"Mumbai\", \"Bangalore\", \"Chennai\", \"Delhi\"]\n",
    "\n",
    "city1 = input(\"Enter the first city: \")\n",
    "city2 = input(\"Enter the second city: \")\n",
    "\n",
    "def get_country(city):\n",
    "    if city in australia:\n",
    "        return \"Australia\"\n",
    "    elif city in uae:\n",
    "        return \"UAE\"\n",
    "    elif city in india:\n",
    "        return \"India\"\n",
    "    else:\n",
    "        return None\n",
    "\n",
    "country1 = get_country(city1)\n",
    "country2 = get_country(city2)\n",
    "\n",
    "# Compare countries\n",
    "if country1 and country2:\n",
    "    if country1 == country2:\n",
    "        print(f\"Both cities are in {country1}\")\n",
    "    else:\n",
    "        print(\"They don't belong to the same country\")\n",
    "else:\n",
    "    print(\"One or both cities are not in the list\")\n"
   ]
  }
 ],
 "metadata": {
  "kernelspec": {
   "display_name": "Python 3",
   "language": "python",
   "name": "python3"
  },
  "language_info": {
   "codemirror_mode": {
    "name": "ipython",
    "version": 3
   },
   "file_extension": ".py",
   "mimetype": "text/x-python",
   "name": "python",
   "nbconvert_exporter": "python",
   "pygments_lexer": "ipython3",
   "version": "3.13.5"
  }
 },
 "nbformat": 4,
 "nbformat_minor": 5
}
