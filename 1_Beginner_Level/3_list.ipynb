{
 "cells": [
  {
   "cell_type": "code",
   "execution_count": 1,
   "id": "cc692ae5",
   "metadata": {},
   "outputs": [
    {
     "name": "stdout",
     "output_type": "stream",
     "text": [
      "Number of members: 6\n"
     ]
    }
   ],
   "source": [
    "justice_league = [\"Superman\", \"Batman\", \"Wonder Woman\", \"Flash\", \"Aquaman\", \"Green Lantern\"]\n",
    "\n",
    "# 1. Calculate the number of members\n",
    "num_members = len(justice_league)\n",
    "print(\"Number of members:\", num_members)"
   ]
  },
  {
   "cell_type": "code",
   "execution_count": null,
   "id": "5baf3147",
   "metadata": {},
   "outputs": [
    {
     "name": "stdout",
     "output_type": "stream",
     "text": [
      "After adding Batgirl and Nightwing: ['Superman', 'Batman', 'Wonder Woman', 'Flash', 'Aquaman', 'Green Lantern', 'Batgirl', 'Nightwing']\n"
     ]
    }
   ],
   "source": [
    "\"\"\"2. Batman recruited Batgirl and Nightwing as new members.\n",
    "Add them to your list.\"\"\"\n",
    "\n",
    "justice_league.extend([\"Batgirl\", \"Nightwing\"])\n",
    "print(\"After adding Batgirl and Nightwing:\", justice_league)"
   ]
  },
  {
   "cell_type": "code",
   "execution_count": 3,
   "id": "44ea5641",
   "metadata": {},
   "outputs": [
    {
     "name": "stdout",
     "output_type": "stream",
     "text": [
      "['Wonder Woman', 'Superman', 'Batman', 'Flash', 'Aquaman', 'Green Lantern', 'Batgirl', 'Nightwing']\n"
     ]
    }
   ],
   "source": [
    "\"\"\"3. Wonder Woman is now the leader of the Justice League.\n",
    "Move her to the beginning of the list.\"\"\"\n",
    "\n",
    "justice_league.remove(\"Wonder Woman\")\n",
    "justice_league.insert(0, \"Wonder Woman\")\n",
    "print( justice_league)\n"
   ]
  },
  {
   "cell_type": "code",
   "execution_count": 4,
   "id": "641cfa7c",
   "metadata": {},
   "outputs": [
    {
     "name": "stdout",
     "output_type": "stream",
     "text": [
      "['Wonder Woman', 'Batman', 'Flash', 'Superman', 'Aquaman', 'Green Lantern', 'Batgirl', 'Nightwing']\n"
     ]
    }
   ],
   "source": [
    "\"\"\"4. Aquaman and Flash are having conflicts, and you need to\n",
    "separate them. Choose either \"Green Lantern\" or \"Superman\"\n",
    "and move them in between Aquaman and Flash.\"\"\"\n",
    "\n",
    "justice_league.remove(\"Superman\")  # Remove first to reposition\n",
    "index_flash = justice_league.index(\"Flash\")\n",
    "justice_league.insert(index_flash + 1, \"Superman\")\n",
    "print( justice_league)"
   ]
  },
  {
   "cell_type": "code",
   "execution_count": 5,
   "id": "bfbd7bac",
   "metadata": {},
   "outputs": [
    {
     "name": "stdout",
     "output_type": "stream",
     "text": [
      "['Cyborg', 'Shazam', 'Hawkgirl', 'Martian Manhunter', 'Green Arrow']\n"
     ]
    }
   ],
   "source": [
    "\"\"\"5. The Justice League faced a crisis, and Superman decided to\n",
    "assemble a new team. Replace the existing list with the following\n",
    "new members: \"Cyborg\"\n",
    ",\n",
    "\"Shazam\"\n",
    ",\n",
    "\"Hawkgirl\"\n",
    ",\n",
    "\"Martian\n",
    "\n",
    "Manhunter\"\n",
    ",\n",
    "\"Green Arrow\".\"\"\"\n",
    "\n",
    "justice_league = [\"Cyborg\", \"Shazam\", \"Hawkgirl\", \"Martian Manhunter\", \"Green Arrow\"]\n",
    "print( justice_league)"
   ]
  },
  {
   "cell_type": "code",
   "execution_count": 6,
   "id": "a5d595f3",
   "metadata": {},
   "outputs": [
    {
     "name": "stdout",
     "output_type": "stream",
     "text": [
      "['Cyborg', 'Green Arrow', 'Hawkgirl', 'Martian Manhunter', 'Shazam']\n"
     ]
    }
   ],
   "source": [
    "\"\"\"6. Sort the Justice League alphabetically. The hero at the 0th\n",
    "index will become the new leader.\"\"\"\n",
    "\n",
    "justice_league.sort()\n",
    "print( justice_league)"
   ]
  }
 ],
 "metadata": {
  "kernelspec": {
   "display_name": "Python 3",
   "language": "python",
   "name": "python3"
  },
  "language_info": {
   "codemirror_mode": {
    "name": "ipython",
    "version": 3
   },
   "file_extension": ".py",
   "mimetype": "text/x-python",
   "name": "python",
   "nbconvert_exporter": "python",
   "pygments_lexer": "ipython3",
   "version": "3.13.5"
  }
 },
 "nbformat": 4,
 "nbformat_minor": 5
}
