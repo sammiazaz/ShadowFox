{
 "cells": [
  {
   "cell_type": "code",
   "execution_count": null,
   "id": "87ff79d9",
   "metadata": {},
   "outputs": [
    {
     "name": "stdout",
     "output_type": "stream",
     "text": [
      "Roll 1: 2\n",
      "Roll 2: 2\n",
      "Roll 3: 3\n",
      "Roll 4: 4\n",
      "Roll 5: 6\n",
      "Roll 6: 6\n",
      "Roll 7: 1\n",
      "Roll 8: 6\n",
      "Roll 9: 3\n",
      "Roll 10: 6\n",
      "Roll 11: 6\n",
      "Roll 12: 6\n",
      "Roll 13: 5\n",
      "Roll 14: 3\n",
      "Roll 15: 2\n",
      "Roll 16: 3\n",
      "Roll 17: 4\n",
      "Roll 18: 4\n",
      "Roll 19: 3\n",
      "Roll 20: 6\n",
      "\n",
      "--- Statistics ---\n",
      "Number of times rolled 6: 7\n",
      "Number of times rolled 1: 1\n",
      "Number of times rolled two 6s in a row: 3\n"
     ]
    }
   ],
   "source": [
    "\"\"\"5. For Loop:\n",
    "\n",
    "task 1. Using a for loop, simulate rolling a sixsided die multiple times (at least 20\n",
    "times).\n",
    "Count and print the following statistics:\n",
    "How many times you rolled a 6\n",
    "How many times you rolled a 1\n",
    "How many times you rolled two 6s in a row\n",
    "\"\"\"\n",
    "\n",
    "import random\n",
    "\n",
    "rolls = 20\n",
    "six_count = 0\n",
    "one_count = 0\n",
    "double_six_count = 0\n",
    "previous_roll = 0\n",
    "\n",
    "for i in range(rolls):\n",
    "    roll = random.randint(1, 6)\n",
    "    print(f\"Roll {i+1}: {roll}\")\n",
    "\n",
    "    if roll == 6:\n",
    "        six_count += 1\n",
    "        if previous_roll == 6:\n",
    "            double_six_count += 1\n",
    "    if roll == 1:\n",
    "        one_count += 1\n",
    "\n",
    "    previous_roll = roll\n",
    "\n",
    "print(\"\\n--- Statistics ---\")\n",
    "print(f\"Number of times rolled 6: {six_count}\")\n",
    "print(f\"Number of times rolled 1: {one_count}\")\n",
    "print(f\"Number of times rolled two 6s in a row: {double_six_count}\")\n"
   ]
  },
  {
   "cell_type": "code",
   "execution_count": null,
   "id": "2b2152d4",
   "metadata": {},
   "outputs": [
    {
     "name": "stdout",
     "output_type": "stream",
     "text": [
      "\n",
      "You did 10 jumping jacks.\n",
      "\n",
      "You completed a total of 10 jumping jacks.\n"
     ]
    }
   ],
   "source": [
    "\"\"\"task 2. Imagine you are doing a workout routine, and you have to complete 100\n",
    "jumping jacks.\n",
    "Write a program that:\n",
    "Asks you to perform 10 jumping jacks at a time.\n",
    "After each set, it asks, \"Are you tired?\"\"\"\n",
    "\n",
    "total_jumping_jacks = 100\n",
    "jacks_per_set = 10\n",
    "completed = 0\n",
    "\n",
    "for i in range(0, total_jumping_jacks, jacks_per_set):\n",
    "    completed += jacks_per_set\n",
    "    print(f\"\\nYou did {jacks_per_set} jumping jacks.\")\n",
    "\n",
    "    tired = input(\"Are you tired? (yes/y or no/n): \").strip().lower()\n",
    "    \n",
    "    if tired in [\"yes\", \"y\"]:\n",
    "        skip = input(\"Do you want to skip the remaining sets? (yes/y or no/n): \").strip().lower()\n",
    "        if skip in [\"yes\", \"y\"]:\n",
    "            print(f\"\\nYou completed a total of {completed} jumping jacks.\")\n",
    "            break\n",
    "        else:\n",
    "            remaining = total_jumping_jacks - completed\n",
    "            print(f\"{remaining} jumping jacks remaining. Keep going!\")\n",
    "    elif tired in [\"no\", \"n\"]:\n",
    "        remaining = total_jumping_jacks - completed\n",
    "        if remaining > 0:\n",
    "            print(f\"{remaining} jumping jacks remaining. Keep going!\")\n",
    "\n",
    "if completed == total_jumping_jacks:\n",
    "    print(\"\\n Congratulations! You completed the workout.\")\n",
    "\n"
   ]
  }
 ],
 "metadata": {
  "kernelspec": {
   "display_name": "Python 3",
   "language": "python",
   "name": "python3"
  },
  "language_info": {
   "codemirror_mode": {
    "name": "ipython",
    "version": 3
   },
   "file_extension": ".py",
   "mimetype": "text/x-python",
   "name": "python",
   "nbconvert_exporter": "python",
   "pygments_lexer": "ipython3",
   "version": "3.13.5"
  }
 },
 "nbformat": 4,
 "nbformat_minor": 5
}
