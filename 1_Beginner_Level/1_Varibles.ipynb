{
 "cells": [
  {
   "cell_type": "code",
   "execution_count": 1,
   "id": "059b6030",
   "metadata": {},
   "outputs": [
    {
     "name": "stdout",
     "output_type": "stream",
     "text": [
      "value of pi :  3.142857142857143\n",
      "data type of pi :  <class 'float'>\n"
     ]
    }
   ],
   "source": [
    "\"\"\"1. Create a variable named pi and store the value 22/7 in it.\n",
    "Now check the data type of this variable.\"\"\"\n",
    "\n",
    "pi = 22 / 7\n",
    "print(\"value of pi : \", pi)\n",
    "print(\"data type of pi : \", type(pi))\n"
   ]
  },
  {
   "cell_type": "code",
   "execution_count": null,
   "id": "617c0657",
   "metadata": {},
   "outputs": [],
   "source": [
    "\"\"\"2. Create a variable called for and assign it a value 4. See what\n",
    "happens and find out the reason behind the behavior that you\n",
    "see.\"\"\"\n",
    "\n",
    " for  = 5  \n"
   ]
  },
  {
   "cell_type": "code",
   "execution_count": 2,
   "id": "cd41d6e8",
   "metadata": {},
   "outputs": [
    {
     "name": "stdout",
     "output_type": "stream",
     "text": [
      "Principal (P): 5000.0\n",
      "Rate (R): 36.0\n",
      "Time (T): 3\n",
      "Simple Interest: 5400.0\n"
     ]
    }
   ],
   "source": [
    "\"\"\" 3. Store the principal amount, rate of interest, and time in\n",
    "different variables and then calculate the Simple Interest for 3\n",
    "years. Formula: Simple Interest = P x R x T / 100\"\"\"\n",
    "\n",
    "P = float (input(\"Enter the principal amount : \"))\n",
    "R = float(input(\"Enter the Rate of intrest per year: \"))\n",
    "T = 3  # 3 Years\n",
    "\n",
    "SI = (P * R * T) / 100\n",
    "\n",
    "print(f\"Principal (P): {P}\")\n",
    "print(f\"Rate (R): {R}\")\n",
    "print(f\"Time (T): {T}\")\n",
    "print(f\"Simple Interest: {SI}\")"
   ]
  },
  {
   "cell_type": "code",
   "execution_count": null,
   "id": "f674620a",
   "metadata": {},
   "outputs": [],
   "source": []
  }
 ],
 "metadata": {
  "kernelspec": {
   "display_name": "Python 3",
   "language": "python",
   "name": "python3"
  },
  "language_info": {
   "codemirror_mode": {
    "name": "ipython",
    "version": 3
   },
   "file_extension": ".py",
   "mimetype": "text/x-python",
   "name": "python",
   "nbconvert_exporter": "python",
   "pygments_lexer": "ipython3",
   "version": "3.13.5"
  }
 },
 "nbformat": 4,
 "nbformat_minor": 5
}
