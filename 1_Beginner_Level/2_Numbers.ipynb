{
 "cells": [
  {
   "cell_type": "code",
   "execution_count": null,
   "id": "9a9076c4",
   "metadata": {},
   "outputs": [
    {
     "name": "stdout",
     "output_type": "stream",
     "text": [
      "Task 1\n",
      "Result :  221 \n",
      "\n"
     ]
    }
   ],
   "source": [
    "\"\"\"1. Write a function that takes two arguments, 145 and 'o'\n",
    ", and\n",
    "uses the `format` function to return a formatted string. Print the\n",
    "result. Try to identify the representation used.\"\"\"\n",
    "def format_number(number, char):\n",
    "           return format(number, char)\n",
    "\n",
    "formatted_string = format_number(145, 'o')\n",
    "print(\"Result : \",formatted_string,\"\\n\" )"
   ]
  },
  {
   "cell_type": "code",
   "execution_count": null,
   "id": "a1cc6c62",
   "metadata": {},
   "outputs": [
    {
     "name": "stdout",
     "output_type": "stream",
     "text": [
      "Task 2\n",
      "area of pond :  22155.84 \n",
      "\n"
     ]
    }
   ],
   "source": [
    "\"\"\"2. In a village, there is a circular pond with a radius of 84 meters.\n",
    "Calculate the area of the pond using the formula: Circle Area = π\n",
    "r^2. (Use the value 3.14 for π) Bonus Question: If there is exactly\n",
    "1.4 liters of water in a square meter, what is the total amount of\n",
    "water in the pond? Print the answer without any decimal point in\n",
    "it. Hint: Circle Area = π r^2 Water in the pond = Pond Area\n",
    "Water per Square Meter\"\"\"\n",
    "\n",
    "radius = 84\n",
    "pi = 3.14\n",
    "\n",
    "#area of pond\n",
    "pond_area = pi * (radius ** 2)\n",
    "print(\"area of pond : \", pond_area, \"\\n\")\n"
   ]
  },
  {
   "cell_type": "code",
   "execution_count": 3,
   "id": "ee9273a0",
   "metadata": {},
   "outputs": [
    {
     "name": "stdout",
     "output_type": "stream",
     "text": [
      "speed :  1 (m/s)\n"
     ]
    }
   ],
   "source": [
    "\"\"\"3. If you cross a 490meterlong street in 7 minutes, calculate your\n",
    "speed in meters per second. Print the answer without any decimal\n",
    "point in it. Hint: Speed = Distance / Time\"\"\"\n",
    "\n",
    "\n",
    "distance = 490  \n",
    "time_minutes = 7\n",
    "time_seconds = time_minutes * 60  \n",
    "\n",
    "speed = distance / time_seconds\n",
    "print(\"speed : \", int(speed),\"(m/s)\")\n"
   ]
  }
 ],
 "metadata": {
  "kernelspec": {
   "display_name": "Python 3",
   "language": "python",
   "name": "python3"
  },
  "language_info": {
   "codemirror_mode": {
    "name": "ipython",
    "version": 3
   },
   "file_extension": ".py",
   "mimetype": "text/x-python",
   "name": "python",
   "nbconvert_exporter": "python",
   "pygments_lexer": "ipython3",
   "version": "3.13.5"
  }
 },
 "nbformat": 4,
 "nbformat_minor": 5
}
